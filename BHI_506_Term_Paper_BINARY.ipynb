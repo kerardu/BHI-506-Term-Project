{
 "cells": [
  {
   "cell_type": "code",
   "execution_count": 1,
   "id": "ec9f2096",
   "metadata": {},
   "outputs": [
    {
     "name": "stderr",
     "output_type": "stream",
     "text": [
      "2023-05-02 08:39:38.378060: I tensorflow/core/platform/cpu_feature_guard.cc:193] This TensorFlow binary is optimized with oneAPI Deep Neural Network Library (oneDNN) to use the following CPU instructions in performance-critical operations:  AVX2 FMA\n",
      "To enable them in other operations, rebuild TensorFlow with the appropriate compiler flags.\n"
     ]
    }
   ],
   "source": [
    "from scipy import stats\n",
    "import sklearn\n",
    "from sklearn.neighbors import KNeighborsClassifier\n",
    "from sklearn.metrics import (\n",
    "    confusion_matrix,\n",
    "    accuracy_score,\n",
    "    roc_auc_score,\n",
    "    balanced_accuracy_score,\n",
    "    f1_score)\n",
    "from sklearn.model_selection import GridSearchCV\n",
    "from sklearn.naive_bayes import GaussianNB\n",
    "from sklearn.svm import SVC\n",
    "from sklearn.tree import DecisionTreeClassifier\n",
    "from sklearn.linear_model import LogisticRegression\n",
    "import numpy as np\n",
    "import matplotlib as mpl\n",
    "import matplotlib.pyplot as plt\n",
    "import pandas as pd\n",
    "import tensorflow as tf\n",
    "from tensorflow import keras\n",
    "from keras.models import Sequential\n",
    "from keras.layers import Dense, Dropout, LSTM, Embedding, Input\n",
    "from keras_preprocessing.sequence import pad_sequences\n",
    "from keras.utils import np_utils\n",
    "from sklearn.preprocessing import LabelEncoder\n",
    "import seaborn as sns\n",
    "from sklearn.metrics import classification_report\n",
    "import statsmodels.api as sm\n",
    "from sklearn.model_selection import KFold, cross_val_score\n",
    "from scipy.stats import chi2_contingency\n",
    "import tkinter as tk\n",
    "from tkinter import messagebox"
   ]
  },
  {
   "cell_type": "code",
   "execution_count": 2,
   "id": "de987bc1",
   "metadata": {},
   "outputs": [],
   "source": [
    "np.random.seed(833)"
   ]
  },
  {
   "cell_type": "code",
   "execution_count": 3,
   "id": "cfbedfbe",
   "metadata": {},
   "outputs": [],
   "source": [
    "#uploading csv file\n",
    "maternal=\"Maternal_Dataset.csv\""
   ]
  },
  {
   "cell_type": "code",
   "execution_count": 4,
   "id": "84ada454",
   "metadata": {},
   "outputs": [],
   "source": [
    "dataframe=pd.read_csv(maternal,header=0,delimiter=',')"
   ]
  },
  {
   "cell_type": "code",
   "execution_count": 5,
   "id": "fa05cc7a",
   "metadata": {},
   "outputs": [
    {
     "name": "stdout",
     "output_type": "stream",
     "text": [
      "(1014, 7)\n"
     ]
    }
   ],
   "source": [
    "print(dataframe.shape)"
   ]
  },
  {
   "cell_type": "code",
   "execution_count": 6,
   "id": "723065b6",
   "metadata": {},
   "outputs": [
    {
     "name": "stdout",
     "output_type": "stream",
     "text": [
      "   Age  SystolicBP  DiastolicBP    BS  BodyTemp  HeartRate  RiskLevel\n",
      "0   25         130           80  15.0      98.0         86  high risk\n",
      "1   35         140           90  13.0      98.0         70  high risk\n",
      "2   29          90           70   8.0     100.0         80  high risk\n",
      "3   30         140           85   7.0      98.0         70  high risk\n",
      "4   35         120           60   6.1      98.0         76   low risk\n"
     ]
    }
   ],
   "source": [
    "print(dataframe.head())"
   ]
  },
  {
   "cell_type": "code",
   "execution_count": 7,
   "id": "053d69c3",
   "metadata": {},
   "outputs": [
    {
     "name": "stdout",
     "output_type": "stream",
     "text": [
      "False\n"
     ]
    }
   ],
   "source": [
    "#preprocessing\n",
    "#checking for missing values\n",
    "print(np.any(pd.isnull(dataframe)))"
   ]
  },
  {
   "cell_type": "code",
   "execution_count": 8,
   "id": "7ba0242b",
   "metadata": {},
   "outputs": [
    {
     "name": "stdout",
     "output_type": "stream",
     "text": [
      "Age            0\n",
      "SystolicBP     0\n",
      "DiastolicBP    0\n",
      "BS             0\n",
      "BodyTemp       0\n",
      "HeartRate      0\n",
      "RiskLevel      0\n",
      "dtype: int64\n"
     ]
    }
   ],
   "source": [
    "missing_values = dataframe.isna()\n",
    "\n",
    "# Use the sum() method to count the number of missing values in each column\n",
    "missing_counts = missing_values.sum()\n",
    "\n",
    "# Print the number of missing values in each column\n",
    "print(missing_counts)"
   ]
  },
  {
   "cell_type": "code",
   "execution_count": 9,
   "id": "97f01858",
   "metadata": {},
   "outputs": [
    {
     "name": "stdout",
     "output_type": "stream",
     "text": [
      "Missing values in each column:\n"
     ]
    }
   ],
   "source": [
    "print(\"Missing values in each column:\")\n",
    "for column in dataframe.columns:\n",
    "    num_missing = dataframe[column].isna().sum()\n",
    "    if num_missing > 0:\n",
    "        print(f\"{column}: {num_missing}\")"
   ]
  },
  {
   "cell_type": "code",
   "execution_count": 10,
   "id": "9cb59ff0",
   "metadata": {},
   "outputs": [
    {
     "data": {
      "text/plain": [
       "'import statsmodels.api as sm\\n# Fit a linear regression model with an identity link function (which is equivalent to OLS)\\nX = sm.add_constant(X)  # add a constant column to include the intercept\\nmodel = sm.GLM(y, X, family=sm.families.Gaussian())\\nresults = model.fit()\\n\\n# Print the model summary\\nprint(results.summary())'"
      ]
     },
     "execution_count": 10,
     "metadata": {},
     "output_type": "execute_result"
    }
   ],
   "source": [
    "\"\"\"import statsmodels.api as sm\n",
    "# Fit a linear regression model with an identity link function (which is equivalent to OLS)\n",
    "X = sm.add_constant(X)  # add a constant column to include the intercept\n",
    "model = sm.GLM(y, X, family=sm.families.Gaussian())\n",
    "results = model.fit()\n",
    "\n",
    "# Print the model summary\n",
    "print(results.summary())\"\"\""
   ]
  },
  {
   "cell_type": "code",
   "execution_count": 11,
   "id": "a8c4454b",
   "metadata": {},
   "outputs": [
    {
     "name": "stdout",
     "output_type": "stream",
     "text": [
      "P-value for Age: 2.6736923848642334e-27\n",
      "P-value for Systolic BP: 6.754697513924129e-63\n",
      "P-value for Diastolic BP: 1.939678224483313e-26\n",
      "P-value for Blood Sugar: 1.7623837447025307e-89\n",
      "P-value for Body Temp: 1.0\n",
      "P-value for Heart Rate: 5.851722841931894e-12\n"
     ]
    }
   ],
   "source": [
    "# create cross-tabulation of dependent variable and each independent variable\n",
    "crosstab_var1 = pd.crosstab(dataframe['RiskLevel'], pd.qcut(dataframe['Age'], 3))\n",
    "crosstab_var2 = pd.crosstab(dataframe['RiskLevel'], pd.qcut(dataframe['SystolicBP'], 3))\n",
    "crosstab_var3 = pd.crosstab(dataframe['RiskLevel'], pd.qcut(dataframe['DiastolicBP'], 3))\n",
    "crosstab_var4 = pd.crosstab(dataframe['RiskLevel'], pd.qcut(dataframe['BS'], 3))\n",
    "crosstab_var5 = pd.crosstab(dataframe['RiskLevel'], pd.qcut(dataframe['BodyTemp'], 3, duplicates='drop'))\n",
    "crosstab_var6 = pd.crosstab(dataframe['RiskLevel'], pd.qcut(dataframe['HeartRate'], 3))\n",
    "\n",
    "# perform chi-squared test for each variable\n",
    "_, pval_var1, _, _ = chi2_contingency(crosstab_var1)\n",
    "_, pval_var2, _, _ = chi2_contingency(crosstab_var2)\n",
    "_, pval_var3, _, _ = chi2_contingency(crosstab_var3)\n",
    "_, pval_var4, _, _ = chi2_contingency(crosstab_var4)\n",
    "_, pval_var5, _, _ = chi2_contingency(crosstab_var5)\n",
    "_, pval_var6, _, _ = chi2_contingency(crosstab_var6)\n",
    "\n",
    "# print results\n",
    "print(f\"P-value for Age: {pval_var1}\")\n",
    "print(f\"P-value for Systolic BP: {pval_var2}\")\n",
    "print(f\"P-value for Diastolic BP: {pval_var3}\")\n",
    "print(f\"P-value for Blood Sugar: {pval_var4}\")\n",
    "print(f\"P-value for Body Temp: {pval_var5}\")\n",
    "print(f\"P-value for Heart Rate: {pval_var6}\")"
   ]
  },
  {
   "cell_type": "code",
   "execution_count": 12,
   "id": "2f65da8f",
   "metadata": {},
   "outputs": [
    {
     "name": "stdout",
     "output_type": "stream",
     "text": [
      "   Age  SystolicBP  DiastolicBP    BS  BodyTemp  HeartRate  RiskLevel\n",
      "0   25         130           80  15.0      98.0         86  high risk\n",
      "1   35         140           90  13.0      98.0         70  high risk\n",
      "2   29          90           70   8.0     100.0         80  high risk\n",
      "3   30         140           85   7.0      98.0         70  high risk\n",
      "4   35         120           60   6.1      98.0         76   low risk\n",
      "(1014, 7)\n",
      "Age              int64\n",
      "SystolicBP       int64\n",
      "DiastolicBP      int64\n",
      "BS             float64\n",
      "BodyTemp       float64\n",
      "HeartRate        int64\n",
      "RiskLevel       object\n",
      "dtype: object\n"
     ]
    }
   ],
   "source": [
    "print(dataframe.head())\n",
    "print(dataframe.shape)\n",
    "print(dataframe.dtypes)"
   ]
  },
  {
   "cell_type": "code",
   "execution_count": 13,
   "id": "b5a4bb95",
   "metadata": {},
   "outputs": [
    {
     "name": "stdout",
     "output_type": "stream",
     "text": [
      "               Age   SystolicBP  DiastolicBP           BS     BodyTemp  \\\n",
      "count  1014.000000  1014.000000  1014.000000  1014.000000  1014.000000   \n",
      "mean     29.871795   113.198225    76.460552     8.725986    98.665089   \n",
      "std      13.474386    18.403913    13.885796     3.293532     1.371384   \n",
      "min      10.000000    70.000000    49.000000     6.000000    98.000000   \n",
      "25%      19.000000   100.000000    65.000000     6.900000    98.000000   \n",
      "50%      26.000000   120.000000    80.000000     7.500000    98.000000   \n",
      "75%      39.000000   120.000000    90.000000     8.000000    98.000000   \n",
      "max      70.000000   160.000000   100.000000    19.000000   103.000000   \n",
      "\n",
      "         HeartRate  \n",
      "count  1014.000000  \n",
      "mean     74.301775  \n",
      "std       8.088702  \n",
      "min       7.000000  \n",
      "25%      70.000000  \n",
      "50%      76.000000  \n",
      "75%      80.000000  \n",
      "max      90.000000  \n"
     ]
    }
   ],
   "source": [
    "print(dataframe.describe())"
   ]
  },
  {
   "cell_type": "code",
   "execution_count": 14,
   "id": "cd1c6e80",
   "metadata": {},
   "outputs": [
    {
     "name": "stdout",
     "output_type": "stream",
     "text": [
      "                  Age  SystolicBP  DiastolicBP        BS  BodyTemp  HeartRate\n",
      "Age          1.000000    0.416045     0.398026  0.473284 -0.255323   0.079798\n",
      "SystolicBP   0.416045    1.000000     0.787006  0.425172 -0.286616  -0.023108\n",
      "DiastolicBP  0.398026    0.787006     1.000000  0.423824 -0.257538  -0.046151\n",
      "BS           0.473284    0.425172     0.423824  1.000000 -0.103493   0.142867\n",
      "BodyTemp    -0.255323   -0.286616    -0.257538 -0.103493  1.000000   0.098771\n",
      "HeartRate    0.079798   -0.023108    -0.046151  0.142867  0.098771   1.000000\n"
     ]
    }
   ],
   "source": [
    "print(dataframe.corr())"
   ]
  },
  {
   "cell_type": "code",
   "execution_count": 15,
   "id": "82cce1c1",
   "metadata": {},
   "outputs": [
    {
     "name": "stdout",
     "output_type": "stream",
     "text": [
      "(1014, 1)\n",
      "   RiskLevel\n",
      "0  high risk\n",
      "1  high risk\n",
      "2  high risk\n",
      "3  high risk\n",
      "4   low risk\n"
     ]
    }
   ],
   "source": [
    "#assigning dependent variable\n",
    "y=dataframe[['RiskLevel']]\n",
    "print(y.shape)\n",
    "print(y.head())"
   ]
  },
  {
   "cell_type": "code",
   "execution_count": 16,
   "id": "109d46e4",
   "metadata": {},
   "outputs": [
    {
     "data": {
      "text/html": [
       "<div>\n",
       "<style scoped>\n",
       "    .dataframe tbody tr th:only-of-type {\n",
       "        vertical-align: middle;\n",
       "    }\n",
       "\n",
       "    .dataframe tbody tr th {\n",
       "        vertical-align: top;\n",
       "    }\n",
       "\n",
       "    .dataframe thead th {\n",
       "        text-align: right;\n",
       "    }\n",
       "</style>\n",
       "<table border=\"1\" class=\"dataframe\">\n",
       "  <thead>\n",
       "    <tr style=\"text-align: right;\">\n",
       "      <th>col_0</th>\n",
       "      <th>RiskLevel</th>\n",
       "    </tr>\n",
       "    <tr>\n",
       "      <th>RiskLevel</th>\n",
       "      <th></th>\n",
       "    </tr>\n",
       "  </thead>\n",
       "  <tbody>\n",
       "    <tr>\n",
       "      <th>high risk</th>\n",
       "      <td>272</td>\n",
       "    </tr>\n",
       "    <tr>\n",
       "      <th>low risk</th>\n",
       "      <td>406</td>\n",
       "    </tr>\n",
       "    <tr>\n",
       "      <th>mid risk</th>\n",
       "      <td>336</td>\n",
       "    </tr>\n",
       "  </tbody>\n",
       "</table>\n",
       "</div>"
      ],
      "text/plain": [
       "col_0      RiskLevel\n",
       "RiskLevel           \n",
       "high risk        272\n",
       "low risk         406\n",
       "mid risk         336"
      ]
     },
     "metadata": {},
     "output_type": "display_data"
    }
   ],
   "source": [
    "display(pd.crosstab(y['RiskLevel'],'RiskLevel'))"
   ]
  },
  {
   "cell_type": "code",
   "execution_count": 17,
   "id": "b20b8cad",
   "metadata": {},
   "outputs": [
    {
     "name": "stdout",
     "output_type": "stream",
     "text": [
      "      RiskLevel\n",
      "0         False\n",
      "1         False\n",
      "2         False\n",
      "3         False\n",
      "4          True\n",
      "...         ...\n",
      "1009      False\n",
      "1010      False\n",
      "1011      False\n",
      "1012      False\n",
      "1013      False\n",
      "\n",
      "[1014 rows x 1 columns]\n"
     ]
    },
    {
     "data": {
      "text/html": [
       "<div>\n",
       "<style scoped>\n",
       "    .dataframe tbody tr th:only-of-type {\n",
       "        vertical-align: middle;\n",
       "    }\n",
       "\n",
       "    .dataframe tbody tr th {\n",
       "        vertical-align: top;\n",
       "    }\n",
       "\n",
       "    .dataframe thead th {\n",
       "        text-align: right;\n",
       "    }\n",
       "</style>\n",
       "<table border=\"1\" class=\"dataframe\">\n",
       "  <thead>\n",
       "    <tr style=\"text-align: right;\">\n",
       "      <th>col_0</th>\n",
       "      <th>RiskLevel</th>\n",
       "    </tr>\n",
       "    <tr>\n",
       "      <th>RiskLevel</th>\n",
       "      <th></th>\n",
       "    </tr>\n",
       "  </thead>\n",
       "  <tbody>\n",
       "    <tr>\n",
       "      <th>False</th>\n",
       "      <td>608</td>\n",
       "    </tr>\n",
       "    <tr>\n",
       "      <th>True</th>\n",
       "      <td>406</td>\n",
       "    </tr>\n",
       "  </tbody>\n",
       "</table>\n",
       "</div>"
      ],
      "text/plain": [
       "col_0      RiskLevel\n",
       "RiskLevel           \n",
       "False            608\n",
       "True             406"
      ]
     },
     "metadata": {},
     "output_type": "display_data"
    }
   ],
   "source": [
    "#Reshaping into binary\n",
    "y_2=(y=='low risk')\n",
    "print(y_2)\n",
    "display(pd.crosstab(y_2[\"RiskLevel\"],\"RiskLevel\"))"
   ]
  },
  {
   "cell_type": "code",
   "execution_count": 18,
   "id": "c197a612",
   "metadata": {},
   "outputs": [
    {
     "name": "stdout",
     "output_type": "stream",
     "text": [
      "(1014, 6)\n",
      "   Age  SystolicBP  DiastolicBP    BS  BodyTemp  HeartRate\n",
      "0   25         130           80  15.0      98.0         86\n",
      "1   35         140           90  13.0      98.0         70\n",
      "2   29          90           70   8.0     100.0         80\n",
      "3   30         140           85   7.0      98.0         70\n",
      "4   35         120           60   6.1      98.0         76\n"
     ]
    }
   ],
   "source": [
    "#assigning independent variable\n",
    "X=dataframe.iloc[:,0:6]\n",
    "print(X.shape)\n",
    "print(X.head())"
   ]
  },
  {
   "cell_type": "code",
   "execution_count": 19,
   "id": "575b6e19",
   "metadata": {},
   "outputs": [],
   "source": [
    "#splitting the dataset into training and test sets\n",
    "X_train,X_test,y_train,y_test=X[:710], X[710:], y_2[:710], y_2[710:]"
   ]
  },
  {
   "cell_type": "code",
   "execution_count": 20,
   "id": "4e71202b",
   "metadata": {},
   "outputs": [],
   "source": [
    "#print(X_train.shape)\n",
    "#print(X_test.shape)\n",
    "#print(y_train.shape)\n",
    "#print(y_test.shape)"
   ]
  },
  {
   "cell_type": "code",
   "execution_count": 21,
   "id": "11d3be4a",
   "metadata": {},
   "outputs": [
    {
     "data": {
      "text/html": [
       "<div>\n",
       "<style scoped>\n",
       "    .dataframe tbody tr th:only-of-type {\n",
       "        vertical-align: middle;\n",
       "    }\n",
       "\n",
       "    .dataframe tbody tr th {\n",
       "        vertical-align: top;\n",
       "    }\n",
       "\n",
       "    .dataframe thead th {\n",
       "        text-align: right;\n",
       "    }\n",
       "</style>\n",
       "<table border=\"1\" class=\"dataframe\">\n",
       "  <thead>\n",
       "    <tr style=\"text-align: right;\">\n",
       "      <th>col_0</th>\n",
       "      <th>RiskLevel</th>\n",
       "    </tr>\n",
       "    <tr>\n",
       "      <th>RiskLevel</th>\n",
       "      <th></th>\n",
       "    </tr>\n",
       "  </thead>\n",
       "  <tbody>\n",
       "    <tr>\n",
       "      <th>high risk</th>\n",
       "      <td>272</td>\n",
       "    </tr>\n",
       "    <tr>\n",
       "      <th>low risk</th>\n",
       "      <td>406</td>\n",
       "    </tr>\n",
       "    <tr>\n",
       "      <th>mid risk</th>\n",
       "      <td>336</td>\n",
       "    </tr>\n",
       "  </tbody>\n",
       "</table>\n",
       "</div>"
      ],
      "text/plain": [
       "col_0      RiskLevel\n",
       "RiskLevel           \n",
       "high risk        272\n",
       "low risk         406\n",
       "mid risk         336"
      ]
     },
     "metadata": {},
     "output_type": "display_data"
    }
   ],
   "source": [
    "display(pd.crosstab(y['RiskLevel'],'RiskLevel'))"
   ]
  },
  {
   "cell_type": "code",
   "execution_count": 22,
   "id": "0e370d00",
   "metadata": {},
   "outputs": [
    {
     "data": {
      "text/html": [
       "<div>\n",
       "<style scoped>\n",
       "    .dataframe tbody tr th:only-of-type {\n",
       "        vertical-align: middle;\n",
       "    }\n",
       "\n",
       "    .dataframe tbody tr th {\n",
       "        vertical-align: top;\n",
       "    }\n",
       "\n",
       "    .dataframe thead th {\n",
       "        text-align: right;\n",
       "    }\n",
       "</style>\n",
       "<table border=\"1\" class=\"dataframe\">\n",
       "  <thead>\n",
       "    <tr style=\"text-align: right;\">\n",
       "      <th>col_0</th>\n",
       "      <th>RiskLevel</th>\n",
       "    </tr>\n",
       "    <tr>\n",
       "      <th>RiskLevel</th>\n",
       "      <th></th>\n",
       "    </tr>\n",
       "  </thead>\n",
       "  <tbody>\n",
       "    <tr>\n",
       "      <th>False</th>\n",
       "      <td>608</td>\n",
       "    </tr>\n",
       "    <tr>\n",
       "      <th>True</th>\n",
       "      <td>406</td>\n",
       "    </tr>\n",
       "  </tbody>\n",
       "</table>\n",
       "</div>"
      ],
      "text/plain": [
       "col_0      RiskLevel\n",
       "RiskLevel           \n",
       "False            608\n",
       "True             406"
      ]
     },
     "metadata": {},
     "output_type": "display_data"
    }
   ],
   "source": [
    "display(pd.crosstab(y_2['RiskLevel'],'RiskLevel'))"
   ]
  },
  {
   "cell_type": "code",
   "execution_count": 23,
   "id": "fb52298d",
   "metadata": {},
   "outputs": [
    {
     "data": {
      "text/html": [
       "<div>\n",
       "<style scoped>\n",
       "    .dataframe tbody tr th:only-of-type {\n",
       "        vertical-align: middle;\n",
       "    }\n",
       "\n",
       "    .dataframe tbody tr th {\n",
       "        vertical-align: top;\n",
       "    }\n",
       "\n",
       "    .dataframe thead th {\n",
       "        text-align: right;\n",
       "    }\n",
       "</style>\n",
       "<table border=\"1\" class=\"dataframe\">\n",
       "  <thead>\n",
       "    <tr style=\"text-align: right;\">\n",
       "      <th>col_0</th>\n",
       "      <th>RiskLevel</th>\n",
       "    </tr>\n",
       "    <tr>\n",
       "      <th>RiskLevel</th>\n",
       "      <th></th>\n",
       "    </tr>\n",
       "  </thead>\n",
       "  <tbody>\n",
       "    <tr>\n",
       "      <th>False</th>\n",
       "      <td>382</td>\n",
       "    </tr>\n",
       "    <tr>\n",
       "      <th>True</th>\n",
       "      <td>328</td>\n",
       "    </tr>\n",
       "  </tbody>\n",
       "</table>\n",
       "</div>"
      ],
      "text/plain": [
       "col_0      RiskLevel\n",
       "RiskLevel           \n",
       "False            382\n",
       "True             328"
      ]
     },
     "metadata": {},
     "output_type": "display_data"
    }
   ],
   "source": [
    "display(pd.crosstab(y_train['RiskLevel'],'RiskLevel'))"
   ]
  },
  {
   "cell_type": "code",
   "execution_count": 24,
   "id": "af026172",
   "metadata": {},
   "outputs": [
    {
     "data": {
      "text/html": [
       "<div>\n",
       "<style scoped>\n",
       "    .dataframe tbody tr th:only-of-type {\n",
       "        vertical-align: middle;\n",
       "    }\n",
       "\n",
       "    .dataframe tbody tr th {\n",
       "        vertical-align: top;\n",
       "    }\n",
       "\n",
       "    .dataframe thead th {\n",
       "        text-align: right;\n",
       "    }\n",
       "</style>\n",
       "<table border=\"1\" class=\"dataframe\">\n",
       "  <thead>\n",
       "    <tr style=\"text-align: right;\">\n",
       "      <th>col_0</th>\n",
       "      <th>RiskLevel</th>\n",
       "    </tr>\n",
       "    <tr>\n",
       "      <th>RiskLevel</th>\n",
       "      <th></th>\n",
       "    </tr>\n",
       "  </thead>\n",
       "  <tbody>\n",
       "    <tr>\n",
       "      <th>False</th>\n",
       "      <td>226</td>\n",
       "    </tr>\n",
       "    <tr>\n",
       "      <th>True</th>\n",
       "      <td>78</td>\n",
       "    </tr>\n",
       "  </tbody>\n",
       "</table>\n",
       "</div>"
      ],
      "text/plain": [
       "col_0      RiskLevel\n",
       "RiskLevel           \n",
       "False            226\n",
       "True              78"
      ]
     },
     "metadata": {},
     "output_type": "display_data"
    }
   ],
   "source": [
    "display(pd.crosstab(y_test['RiskLevel'],'RiskLevel'))"
   ]
  },
  {
   "cell_type": "code",
   "execution_count": 25,
   "id": "6ca45a3a",
   "metadata": {},
   "outputs": [],
   "source": [
    "######CROSS-VALIDATION######"
   ]
  },
  {
   "cell_type": "code",
   "execution_count": 26,
   "id": "f429853e",
   "metadata": {},
   "outputs": [
    {
     "name": "stdout",
     "output_type": "stream",
     "text": [
      "Cross Validation Scores:  [0.95774648 0.78873239 0.79577465 0.67605634 0.73239437]\n",
      "Average CV Score:  0.7901408450704225\n",
      "Number of CV Scores used in Average:  5\n"
     ]
    },
    {
     "name": "stderr",
     "output_type": "stream",
     "text": [
      "/Users/geraldgaitos/opt/anaconda3/envs/homl3/lib/python3.10/site-packages/sklearn/neighbors/_classification.py:207: DataConversionWarning: A column-vector y was passed when a 1d array was expected. Please change the shape of y to (n_samples,), for example using ravel().\n",
      "  return self._fit(X, y)\n",
      "/Users/geraldgaitos/opt/anaconda3/envs/homl3/lib/python3.10/site-packages/sklearn/neighbors/_classification.py:207: DataConversionWarning: A column-vector y was passed when a 1d array was expected. Please change the shape of y to (n_samples,), for example using ravel().\n",
      "  return self._fit(X, y)\n",
      "/Users/geraldgaitos/opt/anaconda3/envs/homl3/lib/python3.10/site-packages/sklearn/neighbors/_classification.py:207: DataConversionWarning: A column-vector y was passed when a 1d array was expected. Please change the shape of y to (n_samples,), for example using ravel().\n",
      "  return self._fit(X, y)\n",
      "/Users/geraldgaitos/opt/anaconda3/envs/homl3/lib/python3.10/site-packages/sklearn/neighbors/_classification.py:207: DataConversionWarning: A column-vector y was passed when a 1d array was expected. Please change the shape of y to (n_samples,), for example using ravel().\n",
      "  return self._fit(X, y)\n",
      "/Users/geraldgaitos/opt/anaconda3/envs/homl3/lib/python3.10/site-packages/sklearn/neighbors/_classification.py:207: DataConversionWarning: A column-vector y was passed when a 1d array was expected. Please change the shape of y to (n_samples,), for example using ravel().\n",
      "  return self._fit(X, y)\n"
     ]
    }
   ],
   "source": [
    "#K NEAREST NEIGHBORS\n",
    "#K=4\n",
    "knn_clf=KNeighborsClassifier(weights='distance',n_neighbors=4)\n",
    "knn_clf.fit(X_train,y_train.values.ravel())\n",
    "\n",
    "k_folds = KFold(n_splits = 5)\n",
    "\n",
    "scores = cross_val_score(knn_clf, X_train, y_train, cv = k_folds)\n",
    "\n",
    "print(\"Cross Validation Scores: \", scores)\n",
    "print(\"Average CV Score: \", scores.mean())\n",
    "print(\"Number of CV Scores used in Average: \", len(scores))"
   ]
  },
  {
   "cell_type": "code",
   "execution_count": 27,
   "id": "71c72b98",
   "metadata": {},
   "outputs": [],
   "source": [
    "y_knn_pred=knn_clf.predict(X_test)"
   ]
  },
  {
   "cell_type": "code",
   "execution_count": 28,
   "id": "dc4b3085",
   "metadata": {},
   "outputs": [
    {
     "data": {
      "text/plain": [
       "0.9375"
      ]
     },
     "execution_count": 28,
     "metadata": {},
     "output_type": "execute_result"
    }
   ],
   "source": [
    "#accuracy score K=4\n",
    "accuracy_score(y_test,y_knn_pred)"
   ]
  },
  {
   "cell_type": "code",
   "execution_count": 29,
   "id": "b33876d1",
   "metadata": {},
   "outputs": [
    {
     "data": {
      "text/plain": [
       "0.8866008622645791"
      ]
     },
     "execution_count": 29,
     "metadata": {},
     "output_type": "execute_result"
    }
   ],
   "source": [
    "#balanced accuracry score\n",
    "balanced_accuracy_score(y_test,y_knn_pred)"
   ]
  },
  {
   "cell_type": "code",
   "execution_count": 30,
   "id": "60616eb1",
   "metadata": {},
   "outputs": [
    {
     "data": {
      "text/plain": [
       "array([[224,   2],\n",
       "       [ 17,  61]])"
      ]
     },
     "execution_count": 30,
     "metadata": {},
     "output_type": "execute_result"
    }
   ],
   "source": [
    "#confusion matrix\n",
    "conf_mx=confusion_matrix(y_test,y_knn_pred)\n",
    "conf_mx"
   ]
  },
  {
   "cell_type": "code",
   "execution_count": 31,
   "id": "bd402bc5",
   "metadata": {},
   "outputs": [],
   "source": [
    "tab_test=pd.crosstab(index=y_test['RiskLevel'],columns='count')\n",
    "tab_train=pd.crosstab(index=y_train['RiskLevel'],columns='count')"
   ]
  },
  {
   "cell_type": "code",
   "execution_count": 32,
   "id": "df9a4a05",
   "metadata": {},
   "outputs": [
    {
     "data": {
      "text/plain": [
       "<AxesSubplot:xlabel='RiskLevel'>"
      ]
     },
     "execution_count": 32,
     "metadata": {},
     "output_type": "execute_result"
    },
    {
     "data": {
      "image/png": "[encoded data removed]",
      "text/plain": [
       "<Figure size 640x480 with 1 Axes>"
      ]
     },
     "metadata": {},
     "output_type": "display_data"
    }
   ],
   "source": [
    "tab_train.plot.bar()"
   ]
  },
  {
   "cell_type": "code",
   "execution_count": 33,
   "id": "857fb393",
   "metadata": {},
   "outputs": [
    {
     "data": {
      "text/plain": [
       "<AxesSubplot:xlabel='RiskLevel'>"
      ]
     },
     "execution_count": 33,
     "metadata": {},
     "output_type": "execute_result"
    },
    {
     "data": {
      "image/png": "[encoded data removed]",
      "text/plain": [
       "<Figure size 640x480 with 1 Axes>"
      ]
     },
     "metadata": {},
     "output_type": "display_data"
    }
   ],
   "source": [
    "tab_test.plot.bar()"
   ]
  },
  {
   "cell_type": "code",
   "execution_count": 34,
   "id": "a1adb663",
   "metadata": {},
   "outputs": [],
   "source": [
    "#KNN GridSearchCV\n",
    "param_grid=[{\"weights\":[\"uniform\",\"distance\"],\"n_neighbors\":[1,2,3,4,5,6,7]}]"
   ]
  },
  {
   "cell_type": "code",
   "execution_count": 35,
   "id": "52e738ea",
   "metadata": {},
   "outputs": [],
   "source": [
    "knn_clf=KNeighborsClassifier()"
   ]
  },
  {
   "cell_type": "code",
   "execution_count": 36,
   "id": "4e1510ef",
   "metadata": {},
   "outputs": [],
   "source": [
    "grid_search=GridSearchCV(knn_clf,param_grid,cv=5,verbose=3)"
   ]
  },
  {
   "cell_type": "code",
   "execution_count": 37,
   "id": "e6798986",
   "metadata": {},
   "outputs": [
    {
     "name": "stdout",
     "output_type": "stream",
     "text": [
      "Fitting 5 folds for each of 14 candidates, totalling 70 fits\n",
      "[CV 1/5] END ....n_neighbors=1, weights=uniform;, score=0.908 total time=   0.0s\n",
      "[CV 2/5] END ....n_neighbors=1, weights=uniform;, score=0.810 total time=   0.0s\n",
      "[CV 3/5] END ....n_neighbors=1, weights=uniform;, score=0.746 total time=   0.0s\n",
      "[CV 4/5] END ....n_neighbors=1, weights=uniform;, score=0.704 total time=   0.0s\n",
      "[CV 5/5] END ....n_neighbors=1, weights=uniform;, score=0.648 total time=   0.0s\n",
      "[CV 1/5] END ...n_neighbors=1, weights=distance;, score=0.908 total time=   0.0s\n",
      "[CV 2/5] END ...n_neighbors=1, weights=distance;, score=0.810 total time=   0.0s\n",
      "[CV 3/5] END ...n_neighbors=1, weights=distance;, score=0.746 total time=   0.0s\n",
      "[CV 4/5] END ...n_neighbors=1, weights=distance;, score=0.704 total time=   0.0s\n",
      "[CV 5/5] END ...n_neighbors=1, weights=distance;, score=0.648 total time=   0.0s\n",
      "[CV 1/5] END ....n_neighbors=2, weights=uniform;, score=0.852 total time=   0.0s\n",
      "[CV 2/5] END ....n_neighbors=2, weights=uniform;, score=0.739 total time=   0.0s\n",
      "[CV 3/5] END ....n_neighbors=2, weights=uniform;, score=0.754 total time=   0.0s\n",
      "[CV 4/5] END ....n_neighbors=2, weights=uniform;, score=0.683 total time=   0.0s\n",
      "[CV 5/5] END ....n_neighbors=2, weights=uniform;, score=0.676 total time=   0.0s\n",
      "[CV 1/5] END ...n_neighbors=2, weights=distance;, score=0.873 total time=   0.0s\n",
      "[CV 2/5] END ...n_neighbors=2, weights=distance;, score=0.803 total time=   0.0s\n",
      "[CV 3/5] END ...n_neighbors=2, weights=distance;, score=0.732 total time=   0.0s\n",
      "[CV 4/5] END ...n_neighbors=2, weights=distance;, score=0.704 total time=   0.0s\n",
      "[CV 5/5] END ...n_neighbors=2, weights=distance;, score=0.655 total time=   0.0s\n",
      "[CV 1/5] END ....n_neighbors=3, weights=uniform;, score=0.831 total time=   0.0s\n",
      "[CV 2/5] END ....n_neighbors=3, weights=uniform;, score=0.754 total time=   0.0s\n",
      "[CV 3/5] END ....n_neighbors=3, weights=uniform;, score=0.718 total time=   0.0s\n",
      "[CV 4/5] END ....n_neighbors=3, weights=uniform;, score=0.725 total time=   0.0s\n",
      "[CV 5/5] END ....n_neighbors=3, weights=uniform;, score=0.732 total time=   0.0s\n",
      "[CV 1/5] END ...n_neighbors=3, weights=distance;, score=0.930 total time=   0.0s\n",
      "[CV 2/5] END ...n_neighbors=3, weights=distance;, score=0.810 total time=   0.0s\n",
      "[CV 3/5] END ...n_neighbors=3, weights=distance;, score=0.789 total time=   0.0s\n",
      "[CV 4/5] END ...n_neighbors=3, weights=distance;, score=0.690 total time=   0.0s\n",
      "[CV 5/5] END ...n_neighbors=3, weights=distance;, score=0.704 total time=   0.0s\n",
      "[CV 1/5] END ....n_neighbors=4, weights=uniform;, score=0.796 total time=   0.0s\n",
      "[CV 2/5] END ....n_neighbors=4, weights=uniform;, score=0.704 total time=   0.0s\n",
      "[CV 3/5] END ....n_neighbors=4, weights=uniform;, score=0.718 total time=   0.0s\n",
      "[CV 4/5] END ....n_neighbors=4, weights=uniform;, score=0.739 total time=   0.0s\n",
      "[CV 5/5] END ....n_neighbors=4, weights=uniform;, score=0.711 total time=   0.0s\n",
      "[CV 1/5] END ...n_neighbors=4, weights=distance;, score=0.937 total time=   0.0s\n",
      "[CV 2/5] END ...n_neighbors=4, weights=distance;, score=0.803 total time=   0.0s\n",
      "[CV 3/5] END ...n_neighbors=4, weights=distance;, score=0.768 total time=   0.0s\n",
      "[CV 4/5] END ...n_neighbors=4, weights=distance;, score=0.704 total time=   0.0s\n",
      "[CV 5/5] END ...n_neighbors=4, weights=distance;, score=0.704 total time=   0.0s\n",
      "[CV 1/5] END ....n_neighbors=5, weights=uniform;, score=0.789 total time=   0.0s\n",
      "[CV 2/5] END ....n_neighbors=5, weights=uniform;, score=0.754 total time=   0.0s\n",
      "[CV 3/5] END ....n_neighbors=5, weights=uniform;, score=0.697 total time=   0.0s\n",
      "[CV 4/5] END ....n_neighbors=5, weights=uniform;, score=0.761 total time=   0.0s\n",
      "[CV 5/5] END ....n_neighbors=5, weights=uniform;, score=0.697 total time=   0.0s\n",
      "[CV 1/5] END ...n_neighbors=5, weights=distance;, score=0.930 total time=   0.0s\n",
      "[CV 2/5] END ...n_neighbors=5, weights=distance;, score=0.782 total time=   0.0s\n",
      "[CV 3/5] END ...n_neighbors=5, weights=distance;, score=0.789 total time=   0.0s\n",
      "[CV 4/5] END ...n_neighbors=5, weights=distance;, score=0.711 total time=   0.0s\n",
      "[CV 5/5] END ...n_neighbors=5, weights=distance;, score=0.683 total time=   0.0s\n",
      "[CV 1/5] END ....n_neighbors=6, weights=uniform;, score=0.775 total time=   0.0s\n",
      "[CV 2/5] END ....n_neighbors=6, weights=uniform;, score=0.746 total time=   0.0s\n",
      "[CV 3/5] END ....n_neighbors=6, weights=uniform;, score=0.725 total time=   0.0s\n",
      "[CV 4/5] END ....n_neighbors=6, weights=uniform;, score=0.725 total time=   0.0s\n",
      "[CV 5/5] END ....n_neighbors=6, weights=uniform;, score=0.669 total time=   0.0s\n",
      "[CV 1/5] END ...n_neighbors=6, weights=distance;, score=0.937 total time=   0.0s\n",
      "[CV 2/5] END ...n_neighbors=6, weights=distance;, score=0.768 total time=   0.0s\n",
      "[CV 3/5] END ...n_neighbors=6, weights=distance;, score=0.782 total time=   0.0s\n",
      "[CV 4/5] END ...n_neighbors=6, weights=distance;, score=0.697 total time=   0.0s\n",
      "[CV 5/5] END ...n_neighbors=6, weights=distance;, score=0.683 total time=   0.0s\n",
      "[CV 1/5] END ....n_neighbors=7, weights=uniform;, score=0.831 total time=   0.0s\n",
      "[CV 2/5] END ....n_neighbors=7, weights=uniform;, score=0.789 total time=   0.0s\n",
      "[CV 3/5] END ....n_neighbors=7, weights=uniform;, score=0.704 total time=   0.0s\n",
      "[CV 4/5] END ....n_neighbors=7, weights=uniform;, score=0.732 total time=   0.0s\n",
      "[CV 5/5] END ....n_neighbors=7, weights=uniform;, score=0.676 total time=   0.0s\n",
      "[CV 1/5] END ...n_neighbors=7, weights=distance;, score=0.951 total time=   0.0s\n",
      "[CV 2/5] END ...n_neighbors=7, weights=distance;, score=0.789 total time=   0.0s\n",
      "[CV 3/5] END ...n_neighbors=7, weights=distance;, score=0.775 total time=   0.0s\n",
      "[CV 4/5] END ...n_neighbors=7, weights=distance;, score=0.690 total time=   0.0s\n",
      "[CV 5/5] END ...n_neighbors=7, weights=distance;, score=0.683 total time=   0.0s\n"
     ]
    },
    {
     "data": {
      "text/html": [
       "<style>#sk-container-id-1 {color: black;background-color: white;}#sk-container-id-1 pre{padding: 0;}#sk-container-id-1 div.sk-toggleable {background-color: white;}#sk-container-id-1 label.sk-toggleable__label {cursor: pointer;display: block;width: 100%;margin-bottom: 0;padding: 0.3em;box-sizing: border-box;text-align: center;}#sk-container-id-1 label.sk-toggleable__label-arrow:before {content: \"▸\";float: left;margin-right: 0.25em;color: #696969;}#sk-container-id-1 label.sk-toggleable__label-arrow:hover:before {color: black;}#sk-container-id-1 div.sk-estimator:hover label.sk-toggleable__label-arrow:before {color: black;}#sk-container-id-1 div.sk-toggleable__content {max-height: 0;max-width: 0;overflow: hidden;text-align: left;background-color: #f0f8ff;}#sk-container-id-1 div.sk-toggleable__content pre {margin: 0.2em;color: black;border-radius: 0.25em;background-color: #f0f8ff;}#sk-container-id-1 input.sk-toggleable__control:checked~div.sk-toggleable__content {max-height: 200px;max-width: 100%;overflow: auto;}#sk-container-id-1 input.sk-toggleable__control:checked~label.sk-toggleable__label-arrow:before {content: \"▾\";}#sk-container-id-1 div.sk-estimator input.sk-toggleable__control:checked~label.sk-toggleable__label {background-color: #d4ebff;}#sk-container-id-1 div.sk-label input.sk-toggleable__control:checked~label.sk-toggleable__label {background-color: #d4ebff;}#sk-container-id-1 input.sk-hidden--visually {border: 0;clip: rect(1px 1px 1px 1px);clip: rect(1px, 1px, 1px, 1px);height: 1px;margin: -1px;overflow: hidden;padding: 0;position: absolute;width: 1px;}#sk-container-id-1 div.sk-estimator {font-family: monospace;background-color: #f0f8ff;border: 1px dotted black;border-radius: 0.25em;box-sizing: border-box;margin-bottom: 0.5em;}#sk-container-id-1 div.sk-estimator:hover {background-color: #d4ebff;}#sk-container-id-1 div.sk-parallel-item::after {content: \"\";width: 100%;border-bottom: 1px solid gray;flex-grow: 1;}#sk-container-id-1 div.sk-label:hover label.sk-toggleable__label {background-color: #d4ebff;}#sk-container-id-1 div.sk-serial::before {content: \"\";position: absolute;border-left: 1px solid gray;box-sizing: border-box;top: 0;bottom: 0;left: 50%;z-index: 0;}#sk-container-id-1 div.sk-serial {display: flex;flex-direction: column;align-items: center;background-color: white;padding-right: 0.2em;padding-left: 0.2em;position: relative;}#sk-container-id-1 div.sk-item {position: relative;z-index: 1;}#sk-container-id-1 div.sk-parallel {display: flex;align-items: stretch;justify-content: center;background-color: white;position: relative;}#sk-container-id-1 div.sk-item::before, #sk-container-id-1 div.sk-parallel-item::before {content: \"\";position: absolute;border-left: 1px solid gray;box-sizing: border-box;top: 0;bottom: 0;left: 50%;z-index: -1;}#sk-container-id-1 div.sk-parallel-item {display: flex;flex-direction: column;z-index: 1;position: relative;background-color: white;}#sk-container-id-1 div.sk-parallel-item:first-child::after {align-self: flex-end;width: 50%;}#sk-container-id-1 div.sk-parallel-item:last-child::after {align-self: flex-start;width: 50%;}#sk-container-id-1 div.sk-parallel-item:only-child::after {width: 0;}#sk-container-id-1 div.sk-dashed-wrapped {border: 1px dashed gray;margin: 0 0.4em 0.5em 0.4em;box-sizing: border-box;padding-bottom: 0.4em;background-color: white;}#sk-container-id-1 div.sk-label label {font-family: monospace;font-weight: bold;display: inline-block;line-height: 1.2em;}#sk-container-id-1 div.sk-label-container {text-align: center;}#sk-container-id-1 div.sk-container {/* jupyter's `normalize.less` sets `[hidden] { display: none; }` but bootstrap.min.css set `[hidden] { display: none !important; }` so we also need the `!important` here to be able to override the default hidden behavior on the sphinx rendered scikit-learn.org. See: https://github.com/scikit-learn/scikit-learn/issues/21755 */display: inline-block !important;position: relative;}#sk-container-id-1 div.sk-text-repr-fallback {display: none;}</style><div id=\"sk-container-id-1\" class=\"sk-top-container\"><div class=\"sk-text-repr-fallback\"><pre>GridSearchCV(cv=5, estimator=KNeighborsClassifier(),\n",
       "             param_grid=[{&#x27;n_neighbors&#x27;: [1, 2, 3, 4, 5, 6, 7],\n",
       "                          &#x27;weights&#x27;: [&#x27;uniform&#x27;, &#x27;distance&#x27;]}],\n",
       "             verbose=3)</pre><b>In a Jupyter environment, please rerun this cell to show the HTML representation or trust the notebook. <br />On GitHub, the HTML representation is unable to render, please try loading this page with nbviewer.org.</b></div><div class=\"sk-container\" hidden><div class=\"sk-item sk-dashed-wrapped\"><div class=\"sk-label-container\"><div class=\"sk-label sk-toggleable\"><input class=\"sk-toggleable__control sk-hidden--visually\" id=\"sk-estimator-id-1\" type=\"checkbox\" ><label for=\"sk-estimator-id-1\" class=\"sk-toggleable__label sk-toggleable__label-arrow\">GridSearchCV</label><div class=\"sk-toggleable__content\"><pre>GridSearchCV(cv=5, estimator=KNeighborsClassifier(),\n",
       "             param_grid=[{&#x27;n_neighbors&#x27;: [1, 2, 3, 4, 5, 6, 7],\n",
       "                          &#x27;weights&#x27;: [&#x27;uniform&#x27;, &#x27;distance&#x27;]}],\n",
       "             verbose=3)</pre></div></div></div><div class=\"sk-parallel\"><div class=\"sk-parallel-item\"><div class=\"sk-item\"><div class=\"sk-label-container\"><div class=\"sk-label sk-toggleable\"><input class=\"sk-toggleable__control sk-hidden--visually\" id=\"sk-estimator-id-2\" type=\"checkbox\" ><label for=\"sk-estimator-id-2\" class=\"sk-toggleable__label sk-toggleable__label-arrow\">estimator: KNeighborsClassifier</label><div class=\"sk-toggleable__content\"><pre>KNeighborsClassifier()</pre></div></div></div><div class=\"sk-serial\"><div class=\"sk-item\"><div class=\"sk-estimator sk-toggleable\"><input class=\"sk-toggleable__control sk-hidden--visually\" id=\"sk-estimator-id-3\" type=\"checkbox\" ><label for=\"sk-estimator-id-3\" class=\"sk-toggleable__label sk-toggleable__label-arrow\">KNeighborsClassifier</label><div class=\"sk-toggleable__content\"><pre>KNeighborsClassifier()</pre></div></div></div></div></div></div></div></div></div></div>"
      ],
      "text/plain": [
       "GridSearchCV(cv=5, estimator=KNeighborsClassifier(),\n",
       "             param_grid=[{'n_neighbors': [1, 2, 3, 4, 5, 6, 7],\n",
       "                          'weights': ['uniform', 'distance']}],\n",
       "             verbose=3)"
      ]
     },
     "execution_count": 37,
     "metadata": {},
     "output_type": "execute_result"
    }
   ],
   "source": [
    "grid_search.fit(X_train,y_train.values.ravel())"
   ]
  },
  {
   "cell_type": "code",
   "execution_count": 38,
   "id": "ece10b8d",
   "metadata": {},
   "outputs": [
    {
     "data": {
      "text/plain": [
       "{'n_neighbors': 3, 'weights': 'distance'}"
      ]
     },
     "execution_count": 38,
     "metadata": {},
     "output_type": "execute_result"
    }
   ],
   "source": [
    "grid_search.best_params_"
   ]
  },
  {
   "cell_type": "code",
   "execution_count": 39,
   "id": "71173419",
   "metadata": {},
   "outputs": [
    {
     "data": {
      "text/plain": [
       "0.7845070422535211"
      ]
     },
     "execution_count": 39,
     "metadata": {},
     "output_type": "execute_result"
    }
   ],
   "source": [
    "grid_search.best_score_"
   ]
  },
  {
   "cell_type": "code",
   "execution_count": 40,
   "id": "927ee6a7",
   "metadata": {},
   "outputs": [],
   "source": [
    "y_pred=grid_search.predict(X_test)"
   ]
  },
  {
   "cell_type": "code",
   "execution_count": 41,
   "id": "53f015e2",
   "metadata": {},
   "outputs": [
    {
     "data": {
      "text/plain": [
       "0.9375"
      ]
     },
     "execution_count": 41,
     "metadata": {},
     "output_type": "execute_result"
    }
   ],
   "source": [
    "accuracy_score(y_test,y_pred)"
   ]
  },
  {
   "cell_type": "code",
   "execution_count": 42,
   "id": "b0c0ba16",
   "metadata": {},
   "outputs": [
    {
     "data": {
      "text/plain": [
       "0.8866008622645791"
      ]
     },
     "execution_count": 42,
     "metadata": {},
     "output_type": "execute_result"
    }
   ],
   "source": [
    "balanced_accuracy_score(y_test,y_knn_pred)"
   ]
  },
  {
   "cell_type": "code",
   "execution_count": 43,
   "id": "7d6ac53d",
   "metadata": {},
   "outputs": [
    {
     "data": {
      "text/plain": [
       "<matplotlib.image.AxesImage at 0x14cd92170>"
      ]
     },
     "execution_count": 43,
     "metadata": {},
     "output_type": "execute_result"
    },
    {
     "data": {
      "image/png": "[encoded data removed]",
      "text/plain": [
       "<Figure size 480x480 with 1 Axes>"
      ]
     },
     "metadata": {},
     "output_type": "display_data"
    }
   ],
   "source": [
    "plt.matshow(conf_mx,cmap=plt.cm.gray)"
   ]
  },
  {
   "cell_type": "code",
   "execution_count": 44,
   "id": "f4909d1b",
   "metadata": {},
   "outputs": [
    {
     "name": "stdout",
     "output_type": "stream",
     "text": [
      "Cross Validation Scores:  [0.68309859 0.85915493 0.69014085 0.72535211 0.73943662]\n",
      "Average CV Score:  0.7394366197183099\n",
      "Number of CV Scores used in Average:  5\n"
     ]
    },
    {
     "name": "stderr",
     "output_type": "stream",
     "text": [
      "/Users/geraldgaitos/opt/anaconda3/envs/homl3/lib/python3.10/site-packages/sklearn/utils/validation.py:1111: DataConversionWarning: A column-vector y was passed when a 1d array was expected. Please change the shape of y to (n_samples, ), for example using ravel().\n",
      "  y = column_or_1d(y, warn=True)\n",
      "/Users/geraldgaitos/opt/anaconda3/envs/homl3/lib/python3.10/site-packages/sklearn/utils/validation.py:1111: DataConversionWarning: A column-vector y was passed when a 1d array was expected. Please change the shape of y to (n_samples, ), for example using ravel().\n",
      "  y = column_or_1d(y, warn=True)\n",
      "/Users/geraldgaitos/opt/anaconda3/envs/homl3/lib/python3.10/site-packages/sklearn/utils/validation.py:1111: DataConversionWarning: A column-vector y was passed when a 1d array was expected. Please change the shape of y to (n_samples, ), for example using ravel().\n",
      "  y = column_or_1d(y, warn=True)\n",
      "/Users/geraldgaitos/opt/anaconda3/envs/homl3/lib/python3.10/site-packages/sklearn/utils/validation.py:1111: DataConversionWarning: A column-vector y was passed when a 1d array was expected. Please change the shape of y to (n_samples, ), for example using ravel().\n",
      "  y = column_or_1d(y, warn=True)\n",
      "/Users/geraldgaitos/opt/anaconda3/envs/homl3/lib/python3.10/site-packages/sklearn/utils/validation.py:1111: DataConversionWarning: A column-vector y was passed when a 1d array was expected. Please change the shape of y to (n_samples, ), for example using ravel().\n",
      "  y = column_or_1d(y, warn=True)\n"
     ]
    }
   ],
   "source": [
    "#NAIVE-BAYES\n",
    "gnb=GaussianNB()\n",
    "nb_pred=gnb.fit(X_train,y_train.values.ravel())\n",
    "\n",
    "k_folds = KFold(n_splits = 5)\n",
    "\n",
    "scores = cross_val_score(nb_pred, X_train, y_train, cv = k_folds)\n",
    "\n",
    "print(\"Cross Validation Scores: \", scores)\n",
    "print(\"Average CV Score: \", scores.mean())\n",
    "print(\"Number of CV Scores used in Average: \", len(scores))"
   ]
  },
  {
   "cell_type": "code",
   "execution_count": 45,
   "id": "71803bb7",
   "metadata": {},
   "outputs": [],
   "source": [
    "#NAIVE-BAYES\n",
    "gnb=GaussianNB()\n",
    "nb_pred=gnb.fit(X_train,y_train.values.ravel())\n",
    "nb_predicted=nb_pred.predict(X_test)"
   ]
  },
  {
   "cell_type": "code",
   "execution_count": 46,
   "id": "1b411eca",
   "metadata": {},
   "outputs": [
    {
     "data": {
      "text/plain": [
       "0.5625"
      ]
     },
     "execution_count": 46,
     "metadata": {},
     "output_type": "execute_result"
    }
   ],
   "source": [
    "#accuracy score\n",
    "accuracy_score(y_test,nb_predicted,normalize=True)"
   ]
  },
  {
   "cell_type": "code",
   "execution_count": 47,
   "id": "f1fc3cfa",
   "metadata": {
    "scrolled": true
   },
   "outputs": [
    {
     "data": {
      "text/plain": [
       "0.6637735420921261"
      ]
     },
     "execution_count": 47,
     "metadata": {},
     "output_type": "execute_result"
    }
   ],
   "source": [
    "#balanced accuracy score\n",
    "balanced_accuracy_score(y_test,nb_predicted)"
   ]
  },
  {
   "cell_type": "code",
   "execution_count": 48,
   "id": "c8816185",
   "metadata": {},
   "outputs": [
    {
     "data": {
      "text/plain": [
       "array([[103, 123],\n",
       "       [ 10,  68]])"
      ]
     },
     "metadata": {},
     "output_type": "display_data"
    }
   ],
   "source": [
    "conf_mx=confusion_matrix(y_test,nb_predicted)\n",
    "display(conf_mx)"
   ]
  },
  {
   "cell_type": "code",
   "execution_count": 49,
   "id": "a7839ae1",
   "metadata": {},
   "outputs": [
    {
     "name": "stderr",
     "output_type": "stream",
     "text": [
      "/Users/geraldgaitos/opt/anaconda3/envs/homl3/lib/python3.10/site-packages/sklearn/utils/validation.py:1111: DataConversionWarning: A column-vector y was passed when a 1d array was expected. Please change the shape of y to (n_samples, ), for example using ravel().\n",
      "  y = column_or_1d(y, warn=True)\n",
      "/Users/geraldgaitos/opt/anaconda3/envs/homl3/lib/python3.10/site-packages/sklearn/utils/validation.py:1111: DataConversionWarning: A column-vector y was passed when a 1d array was expected. Please change the shape of y to (n_samples, ), for example using ravel().\n",
      "  y = column_or_1d(y, warn=True)\n"
     ]
    },
    {
     "name": "stdout",
     "output_type": "stream",
     "text": [
      "Cross Validation Scores:  [0.76056338 0.87323944 0.64788732 0.80985915 0.71830986]\n",
      "Average CV Score:  0.7619718309859155\n",
      "Number of CV Scores used in Average:  5\n"
     ]
    },
    {
     "name": "stderr",
     "output_type": "stream",
     "text": [
      "/Users/geraldgaitos/opt/anaconda3/envs/homl3/lib/python3.10/site-packages/sklearn/utils/validation.py:1111: DataConversionWarning: A column-vector y was passed when a 1d array was expected. Please change the shape of y to (n_samples, ), for example using ravel().\n",
      "  y = column_or_1d(y, warn=True)\n",
      "/Users/geraldgaitos/opt/anaconda3/envs/homl3/lib/python3.10/site-packages/sklearn/utils/validation.py:1111: DataConversionWarning: A column-vector y was passed when a 1d array was expected. Please change the shape of y to (n_samples, ), for example using ravel().\n",
      "  y = column_or_1d(y, warn=True)\n",
      "/Users/geraldgaitos/opt/anaconda3/envs/homl3/lib/python3.10/site-packages/sklearn/utils/validation.py:1111: DataConversionWarning: A column-vector y was passed when a 1d array was expected. Please change the shape of y to (n_samples, ), for example using ravel().\n",
      "  y = column_or_1d(y, warn=True)\n"
     ]
    }
   ],
   "source": [
    "#SUPPORT VECTOR MACHINE\n",
    "# Define the SVM model with a poly kernel\n",
    "svm_model = SVC(kernel='poly')\n",
    "svm_model.fit(X_train, y_train.values.ravel())\n",
    "\n",
    "k_folds = KFold(n_splits = 5)\n",
    "\n",
    "scores = cross_val_score(svm_model, X_train, y_train, cv = k_folds)\n",
    "\n",
    "print(\"Cross Validation Scores: \", scores)\n",
    "print(\"Average CV Score: \", scores.mean())\n",
    "print(\"Number of CV Scores used in Average: \", len(scores))"
   ]
  },
  {
   "cell_type": "code",
   "execution_count": 50,
   "id": "e599e48d",
   "metadata": {},
   "outputs": [],
   "source": [
    "# Fit the model to the training data\n",
    "svm_model.fit(X_train, y_train.values.ravel())\n",
    "\n",
    "# Make predictions on the testing data\n",
    "y_pred = svm_model.predict(X_test)"
   ]
  },
  {
   "cell_type": "code",
   "execution_count": 51,
   "id": "3e0ab2b7",
   "metadata": {},
   "outputs": [
    {
     "data": {
      "text/plain": [
       "0.6414473684210527"
      ]
     },
     "execution_count": 51,
     "metadata": {},
     "output_type": "execute_result"
    }
   ],
   "source": [
    "# Calculate the accuracy of the model\n",
    "accuracy_score(y_test, y_pred)"
   ]
  },
  {
   "cell_type": "code",
   "execution_count": 52,
   "id": "b296960e",
   "metadata": {},
   "outputs": [
    {
     "data": {
      "text/plain": [
       "0.7126730201951441"
      ]
     },
     "execution_count": 52,
     "metadata": {},
     "output_type": "execute_result"
    }
   ],
   "source": [
    "#balanced accuracy score\n",
    "balanced_accuracy_score(y_test,y_pred)"
   ]
  },
  {
   "cell_type": "code",
   "execution_count": 53,
   "id": "50c3f3ab",
   "metadata": {},
   "outputs": [
    {
     "data": {
      "text/plain": [
       "array([[128,  98],\n",
       "       [ 11,  67]])"
      ]
     },
     "metadata": {},
     "output_type": "display_data"
    }
   ],
   "source": [
    "conf_mx=confusion_matrix(y_test,y_pred)\n",
    "display(conf_mx)"
   ]
  },
  {
   "cell_type": "code",
   "execution_count": 54,
   "id": "6a2e516d",
   "metadata": {},
   "outputs": [
    {
     "name": "stderr",
     "output_type": "stream",
     "text": [
      "/Users/geraldgaitos/opt/anaconda3/envs/homl3/lib/python3.10/site-packages/sklearn/utils/validation.py:1111: DataConversionWarning: A column-vector y was passed when a 1d array was expected. Please change the shape of y to (n_samples, ), for example using ravel().\n",
      "  y = column_or_1d(y, warn=True)\n",
      "/Users/geraldgaitos/opt/anaconda3/envs/homl3/lib/python3.10/site-packages/sklearn/utils/validation.py:1111: DataConversionWarning: A column-vector y was passed when a 1d array was expected. Please change the shape of y to (n_samples, ), for example using ravel().\n",
      "  y = column_or_1d(y, warn=True)\n",
      "/Users/geraldgaitos/opt/anaconda3/envs/homl3/lib/python3.10/site-packages/sklearn/utils/validation.py:1111: DataConversionWarning: A column-vector y was passed when a 1d array was expected. Please change the shape of y to (n_samples, ), for example using ravel().\n",
      "  y = column_or_1d(y, warn=True)\n",
      "/Users/geraldgaitos/opt/anaconda3/envs/homl3/lib/python3.10/site-packages/sklearn/utils/validation.py:1111: DataConversionWarning: A column-vector y was passed when a 1d array was expected. Please change the shape of y to (n_samples, ), for example using ravel().\n",
      "  y = column_or_1d(y, warn=True)\n",
      "/Users/geraldgaitos/opt/anaconda3/envs/homl3/lib/python3.10/site-packages/sklearn/utils/validation.py:1111: DataConversionWarning: A column-vector y was passed when a 1d array was expected. Please change the shape of y to (n_samples, ), for example using ravel().\n",
      "  y = column_or_1d(y, warn=True)\n"
     ]
    },
    {
     "name": "stdout",
     "output_type": "stream",
     "text": [
      "Cross Validation Scores:  [0.65492958 0.87323944 0.68309859 0.75352113 0.71830986]\n",
      "Average CV Score:  0.7366197183098592\n",
      "Number of CV Scores used in Average:  5\n"
     ]
    }
   ],
   "source": [
    "#Define the SVM model with a linear kernel\n",
    "svm_model = SVC(kernel='linear')\n",
    "svm_model.fit(X_train, y_train.values.ravel())\n",
    "\n",
    "k_folds = KFold(n_splits = 5)\n",
    "\n",
    "scores = cross_val_score(svm_model, X_train, y_train, cv = k_folds)\n",
    "\n",
    "print(\"Cross Validation Scores: \", scores)\n",
    "print(\"Average CV Score: \", scores.mean())\n",
    "print(\"Number of CV Scores used in Average: \", len(scores))"
   ]
  },
  {
   "cell_type": "code",
   "execution_count": 55,
   "id": "268b2dd0",
   "metadata": {},
   "outputs": [
    {
     "data": {
      "text/plain": [
       "0.6677631578947368"
      ]
     },
     "execution_count": 55,
     "metadata": {},
     "output_type": "execute_result"
    }
   ],
   "source": [
    "# Fit the model to the training data\n",
    "svm_model.fit(X_train, y_train.values.ravel())\n",
    "\n",
    "# Make predictions on the testing data\n",
    "y_pred = svm_model.predict(X_test)\n",
    "\n",
    "# Calculate the accuracy of the model\n",
    "accuracy_score(y_test, y_pred)"
   ]
  },
  {
   "cell_type": "code",
   "execution_count": 56,
   "id": "55c5100a",
   "metadata": {},
   "outputs": [
    {
     "data": {
      "text/plain": [
       "array([[145,  81],\n",
       "       [ 20,  58]])"
      ]
     },
     "metadata": {},
     "output_type": "display_data"
    }
   ],
   "source": [
    "conf_mx=confusion_matrix(y_test,y_pred)\n",
    "display(conf_mx)"
   ]
  },
  {
   "cell_type": "code",
   "execution_count": 57,
   "id": "f50f3049",
   "metadata": {},
   "outputs": [
    {
     "name": "stdout",
     "output_type": "stream",
     "text": [
      "Cross Validation Scores:  [0.70422535 0.71126761 0.61267606 0.72535211 0.68309859]\n",
      "Average CV Score:  0.6873239436619718\n",
      "Number of CV Scores used in Average:  5\n"
     ]
    },
    {
     "name": "stderr",
     "output_type": "stream",
     "text": [
      "/Users/geraldgaitos/opt/anaconda3/envs/homl3/lib/python3.10/site-packages/sklearn/utils/validation.py:1111: DataConversionWarning: A column-vector y was passed when a 1d array was expected. Please change the shape of y to (n_samples, ), for example using ravel().\n",
      "  y = column_or_1d(y, warn=True)\n",
      "/Users/geraldgaitos/opt/anaconda3/envs/homl3/lib/python3.10/site-packages/sklearn/utils/validation.py:1111: DataConversionWarning: A column-vector y was passed when a 1d array was expected. Please change the shape of y to (n_samples, ), for example using ravel().\n",
      "  y = column_or_1d(y, warn=True)\n",
      "/Users/geraldgaitos/opt/anaconda3/envs/homl3/lib/python3.10/site-packages/sklearn/utils/validation.py:1111: DataConversionWarning: A column-vector y was passed when a 1d array was expected. Please change the shape of y to (n_samples, ), for example using ravel().\n",
      "  y = column_or_1d(y, warn=True)\n",
      "/Users/geraldgaitos/opt/anaconda3/envs/homl3/lib/python3.10/site-packages/sklearn/utils/validation.py:1111: DataConversionWarning: A column-vector y was passed when a 1d array was expected. Please change the shape of y to (n_samples, ), for example using ravel().\n",
      "  y = column_or_1d(y, warn=True)\n",
      "/Users/geraldgaitos/opt/anaconda3/envs/homl3/lib/python3.10/site-packages/sklearn/utils/validation.py:1111: DataConversionWarning: A column-vector y was passed when a 1d array was expected. Please change the shape of y to (n_samples, ), for example using ravel().\n",
      "  y = column_or_1d(y, warn=True)\n"
     ]
    }
   ],
   "source": [
    "#Define the SVM model with a RBF kernel\n",
    "svm_model = SVC(kernel='rbf')\n",
    "svm_model.fit(X_train, y_train.values.ravel())\n",
    "\n",
    "k_folds = KFold(n_splits = 5)\n",
    "\n",
    "scores = cross_val_score(svm_model, X_train, y_train, cv = k_folds)\n",
    "\n",
    "print(\"Cross Validation Scores: \", scores)\n",
    "print(\"Average CV Score: \", scores.mean())\n",
    "print(\"Number of CV Scores used in Average: \", len(scores))"
   ]
  },
  {
   "cell_type": "code",
   "execution_count": 58,
   "id": "a4a65afd",
   "metadata": {},
   "outputs": [
    {
     "data": {
      "text/plain": [
       "0.5526315789473685"
      ]
     },
     "execution_count": 58,
     "metadata": {},
     "output_type": "execute_result"
    }
   ],
   "source": [
    "# Fit the model to the training data\n",
    "svm_model.fit(X_train, y_train.values.ravel())\n",
    "\n",
    "# Make predictions on the testing data\n",
    "y_pred = svm_model.predict(X_test)\n",
    "\n",
    "# Calculate the accuracy of the model\n",
    "accuracy_score(y_test, y_pred)"
   ]
  },
  {
   "cell_type": "code",
   "execution_count": 59,
   "id": "58788ed1",
   "metadata": {},
   "outputs": [
    {
     "data": {
      "text/plain": [
       "array([[108, 118],\n",
       "       [ 18,  60]])"
      ]
     },
     "metadata": {},
     "output_type": "display_data"
    }
   ],
   "source": [
    "conf_mx=confusion_matrix(y_test,y_pred)\n",
    "display(conf_mx)"
   ]
  },
  {
   "cell_type": "code",
   "execution_count": 60,
   "id": "f2bf4cfa",
   "metadata": {},
   "outputs": [
    {
     "name": "stdout",
     "output_type": "stream",
     "text": [
      "Cross Validation Scores:  [0.96478873 0.81690141 0.65492958 0.61971831 0.73239437]\n",
      "Average CV Score:  0.7577464788732394\n",
      "Number of CV Scores used in Average:  5\n"
     ]
    }
   ],
   "source": [
    "#Decision Tree\n",
    "# Create and train the decision tree classifier\n",
    "clf = DecisionTreeClassifier(random_state=83)\n",
    "clf.fit(X_train, y_train.values.ravel())\n",
    "\n",
    "k_folds = KFold(n_splits = 5)\n",
    "\n",
    "scores = cross_val_score(clf, X_train, y_train, cv = k_folds)\n",
    "\n",
    "print(\"Cross Validation Scores: \", scores)\n",
    "print(\"Average CV Score: \", scores.mean())\n",
    "print(\"Number of CV Scores used in Average: \", len(scores))"
   ]
  },
  {
   "cell_type": "code",
   "execution_count": 61,
   "id": "2fb9008a",
   "metadata": {},
   "outputs": [],
   "source": [
    "# Make predictions on the testing set\n",
    "y_pred = clf.predict(X_test)"
   ]
  },
  {
   "cell_type": "code",
   "execution_count": 62,
   "id": "81763b8b",
   "metadata": {},
   "outputs": [
    {
     "data": {
      "text/plain": [
       "0.9144736842105263"
      ]
     },
     "execution_count": 62,
     "metadata": {},
     "output_type": "execute_result"
    }
   ],
   "source": [
    "#accuracy score \n",
    "accuracy_score(y_test, y_pred)"
   ]
  },
  {
   "cell_type": "code",
   "execution_count": 63,
   "id": "10aa4146",
   "metadata": {},
   "outputs": [
    {
     "data": {
      "text/plain": [
       "0.8753120036305877"
      ]
     },
     "execution_count": 63,
     "metadata": {},
     "output_type": "execute_result"
    }
   ],
   "source": [
    "#balanced_accuracy_score\n",
    "balanced_accuracy_score(y_test,y_pred)"
   ]
  },
  {
   "cell_type": "code",
   "execution_count": 64,
   "id": "5106b7fb",
   "metadata": {},
   "outputs": [
    {
     "data": {
      "text/plain": [
       "array([[216,  10],\n",
       "       [ 16,  62]])"
      ]
     },
     "metadata": {},
     "output_type": "display_data"
    }
   ],
   "source": [
    "conf_mx=confusion_matrix(y_test,y_pred)\n",
    "display(conf_mx)"
   ]
  },
  {
   "cell_type": "code",
   "execution_count": 65,
   "id": "f6b2c27e",
   "metadata": {},
   "outputs": [
    {
     "name": "stdout",
     "output_type": "stream",
     "text": [
      "Cross Validation Scores:  [0.96478873 0.81690141 0.65492958 0.61971831 0.73239437]\n",
      "Average CV Score:  0.7577464788732394\n",
      "Number of CV Scores used in Average:  5\n"
     ]
    }
   ],
   "source": [
    "#Logistic Regression\n",
    "lr = LogisticRegression()\n",
    "lr.fit(X_train,y_train.values.ravel())\n",
    "\n",
    "k_folds = KFold(n_splits = 5)\n",
    "\n",
    "scores = cross_val_score(clf, X_train, y_train, cv = k_folds)\n",
    "\n",
    "print(\"Cross Validation Scores: \", scores)\n",
    "print(\"Average CV Score: \", scores.mean())\n",
    "print(\"Number of CV Scores used in Average: \", len(scores))"
   ]
  },
  {
   "cell_type": "code",
   "execution_count": 66,
   "id": "0e2ad918",
   "metadata": {},
   "outputs": [
    {
     "name": "stdout",
     "output_type": "stream",
     "text": [
      "              precision    recall  f1-score   support\n",
      "\n",
      "       False       0.86      0.63      0.73       226\n",
      "        True       0.39      0.69      0.50        78\n",
      "\n",
      "    accuracy                           0.65       304\n",
      "   macro avg       0.63      0.66      0.62       304\n",
      "weighted avg       0.74      0.65      0.67       304\n",
      "\n"
     ]
    }
   ],
   "source": [
    "# make predictions on test data\n",
    "y_pred = lr.predict(X_test)\n",
    "\n",
    "# print classification report\n",
    "print(classification_report(y_test, y_pred))"
   ]
  },
  {
   "cell_type": "code",
   "execution_count": 67,
   "id": "b89ca923",
   "metadata": {},
   "outputs": [],
   "source": [
    "knn_clf=KNeighborsClassifier(weights='distance',n_neighbors=3)\n",
    "knn_clf.fit(X_train,y_train.values.ravel())\n",
    "model = knn_clf"
   ]
  },
  {
   "cell_type": "code",
   "execution_count": 68,
   "id": "112840a7",
   "metadata": {},
   "outputs": [],
   "source": [
    "##### CDSS #####\n",
    "def predict_risk_level_from_user_input():\n",
    "    age = input(\"Enter age (in years): \")\n",
    "    sbp = input(\"Enter systolic blood pressure (in mmHg): \")\n",
    "    dbp = input(\"Enter diastolic blood pressure (in mmHg): \")\n",
    "    bs = input(\"Enter blood sugar level (in mmol/L): \")\n",
    "    temp = input(\"Enter body temperature (in F): \")\n",
    "    hr = input(\"Enter heart rate (in bpm): \")\n",
    "    \n",
    "    # Create a dataframe with the user input values\n",
    "    input_df = pd.DataFrame({\n",
    "        'Age': [age],\n",
    "        'SystolicBP': [sbp],\n",
    "        'DiastolicBP': [dbp],\n",
    "        'BS': [bs],\n",
    "        'HeartRate': [hr],\n",
    "        'BodyTemp': [temp]\n",
    "    })\n",
    "    \n",
    "    # Use the pre-trained model to make a prediction\n",
    "    risk_level = model.predict(input_df)\n",
    "    \n",
    "    # Return the predicted risk level\n",
    "    return risk_level[0]"
   ]
  },
  {
   "cell_type": "code",
   "execution_count": 70,
   "id": "a644dbe1",
   "metadata": {},
   "outputs": [
    {
     "name": "stdout",
     "output_type": "stream",
     "text": [
      "Enter age (in years): 25\n",
      "Enter systolic blood pressure (in mmHg): 130\n",
      "Enter diastolic blood pressure (in mmHg): 80\n",
      "Enter blood sugar level (in mmol/L): 15\n",
      "Enter body temperature (in F): 98\n",
      "Enter heart rate (in bpm): 86\n",
      "Are you at RISK of maternal diseases?\n",
      "YES, seek medical help!\n"
     ]
    },
    {
     "name": "stderr",
     "output_type": "stream",
     "text": [
      "/Users/geraldgaitos/opt/anaconda3/envs/homl3/lib/python3.10/site-packages/sklearn/base.py:493: FutureWarning: The feature names should match those that were passed during fit. Starting version 1.2, an error will be raised.\n",
      "Feature names must be in the same order as they were in fit.\n",
      "\n",
      "  warnings.warn(message, FutureWarning)\n"
     ]
    }
   ],
   "source": [
    "#25,130,80,15,98,86\n",
    "#expected result: high risk --> AT RISK\n",
    "predicted_risk_level = predict_risk_level_from_user_input()\n",
    "\n",
    "print(\"Are you at RISK of maternal diseases?\")\n",
    "if not predicted_risk_level == True:\n",
    "    print('YES, seek medical help!')\n",
    "else:\n",
    "    print('NO, you are in good health!')"
   ]
  },
  {
   "cell_type": "code",
   "execution_count": 71,
   "id": "21c74a7b",
   "metadata": {},
   "outputs": [
    {
     "name": "stdout",
     "output_type": "stream",
     "text": [
      "Enter age (in years): 19\n",
      "Enter systolic blood pressure (in mmHg): 120\n",
      "Enter diastolic blood pressure (in mmHg): 80\n",
      "Enter blood sugar level (in mmol/L): 7\n",
      "Enter body temperature (in F): 98\n",
      "Enter heart rate (in bpm): 70\n",
      "Are you at RISK of maternal diseases?\n",
      "NO, you are in good health!\n"
     ]
    },
    {
     "name": "stderr",
     "output_type": "stream",
     "text": [
      "/Users/geraldgaitos/opt/anaconda3/envs/homl3/lib/python3.10/site-packages/sklearn/base.py:493: FutureWarning: The feature names should match those that were passed during fit. Starting version 1.2, an error will be raised.\n",
      "Feature names must be in the same order as they were in fit.\n",
      "\n",
      "  warnings.warn(message, FutureWarning)\n"
     ]
    }
   ],
   "source": [
    "#19,120,80,7,98,70\n",
    "#expected result: mid risk --> AT RISK\n",
    "predicted_risk_level = predict_risk_level_from_user_input()\n",
    "\n",
    "print(\"Are you at RISK of maternal diseases?\")\n",
    "if not predicted_risk_level == True:\n",
    "    print('YES, seek medical help!')\n",
    "else:\n",
    "    print('NO, you are in good health!')"
   ]
  },
  {
   "cell_type": "code",
   "execution_count": 73,
   "id": "8b95f9a8",
   "metadata": {},
   "outputs": [
    {
     "name": "stdout",
     "output_type": "stream",
     "text": [
      "Enter age (in years): 30\n",
      "Enter systolic blood pressure (in mmHg): 120\n",
      "Enter diastolic blood pressure (in mmHg): 80\n",
      "Enter blood sugar level (in mmol/L): 6.9\n",
      "Enter body temperature (in F): 101\n",
      "Enter heart rate (in bpm): 76\n",
      "Are you at RISK of maternal diseases?\n",
      "NO, you are in good health!\n"
     ]
    },
    {
     "name": "stderr",
     "output_type": "stream",
     "text": [
      "/Users/geraldgaitos/opt/anaconda3/envs/homl3/lib/python3.10/site-packages/sklearn/base.py:493: FutureWarning: The feature names should match those that were passed during fit. Starting version 1.2, an error will be raised.\n",
      "Feature names must be in the same order as they were in fit.\n",
      "\n",
      "  warnings.warn(message, FutureWarning)\n"
     ]
    }
   ],
   "source": [
    "#30,120,80,6.9,101,76\n",
    "#expected result: mid risk --> AT RISK\n",
    "predicted_risk_level = predict_risk_level_from_user_input()\n",
    "\n",
    "print(\"Are you at RISK of maternal diseases?\")\n",
    "if not predicted_risk_level == True:\n",
    "    print('YES, seek medical help!')\n",
    "else:\n",
    "    print('NO, you are in good health!')"
   ]
  },
  {
   "cell_type": "code",
   "execution_count": 74,
   "id": "357413ff",
   "metadata": {},
   "outputs": [
    {
     "name": "stdout",
     "output_type": "stream",
     "text": [
      "Enter age (in years): 22\n",
      "Enter systolic blood pressure (in mmHg): 85\n",
      "Enter diastolic blood pressure (in mmHg): 60\n",
      "Enter blood sugar level (in mmol/L): 6.9\n",
      "Enter body temperature (in F): 98\n",
      "Enter heart rate (in bpm): 76\n",
      "Are you at RISK of maternal diseases?\n",
      "YES, seek medical help!\n"
     ]
    },
    {
     "name": "stderr",
     "output_type": "stream",
     "text": [
      "/Users/geraldgaitos/opt/anaconda3/envs/homl3/lib/python3.10/site-packages/sklearn/base.py:493: FutureWarning: The feature names should match those that were passed during fit. Starting version 1.2, an error will be raised.\n",
      "Feature names must be in the same order as they were in fit.\n",
      "\n",
      "  warnings.warn(message, FutureWarning)\n"
     ]
    }
   ],
   "source": [
    "#22,85,60,6.9,98,76\n",
    "#expected result: mid risk --> AT RISK\n",
    "predicted_risk_level = predict_risk_level_from_user_input()\n",
    "\n",
    "print(\"Are you at RISK of maternal diseases?\")\n",
    "if not predicted_risk_level == True:\n",
    "    print('YES, seek medical help!')\n",
    "else:\n",
    "    print('NO, you are in good health!')"
   ]
  },
  {
   "cell_type": "code",
   "execution_count": 75,
   "id": "e4abb4bc",
   "metadata": {},
   "outputs": [
    {
     "name": "stdout",
     "output_type": "stream",
     "text": [
      "Enter age (in years): 35\n",
      "Enter systolic blood pressure (in mmHg): 120\n",
      "Enter diastolic blood pressure (in mmHg): 80\n",
      "Enter blood sugar level (in mmol/L): 6.9\n",
      "Enter body temperature (in F): 98\n",
      "Enter heart rate (in bpm): 78\n",
      "Are you at RISK of maternal diseases?\n",
      "YES, seek medical help!\n"
     ]
    },
    {
     "name": "stderr",
     "output_type": "stream",
     "text": [
      "/Users/geraldgaitos/opt/anaconda3/envs/homl3/lib/python3.10/site-packages/sklearn/base.py:493: FutureWarning: The feature names should match those that were passed during fit. Starting version 1.2, an error will be raised.\n",
      "Feature names must be in the same order as they were in fit.\n",
      "\n",
      "  warnings.warn(message, FutureWarning)\n"
     ]
    }
   ],
   "source": [
    "#35,120,80,6.9,98,78\n",
    "#expected result: mid risk --> AT RISK\n",
    "predicted_risk_level = predict_risk_level_from_user_input()\n",
    "\n",
    "print(\"Are you at RISK of maternal diseases?\")\n",
    "if not predicted_risk_level == True:\n",
    "    print('YES, seek medical help!')\n",
    "else:\n",
    "    print('NO, you are in good health!')"
   ]
  },
  {
   "cell_type": "code",
   "execution_count": 72,
   "id": "7995b887",
   "metadata": {},
   "outputs": [
    {
     "name": "stdout",
     "output_type": "stream",
     "text": [
      "Enter age (in years): 15\n",
      "Enter systolic blood pressure (in mmHg): 120\n",
      "Enter diastolic blood pressure (in mmHg): 80\n",
      "Enter blood sugar level (in mmol/L): 7.01\n",
      "Enter body temperature (in F): 98\n",
      "Enter heart rate (in bpm): 70\n",
      "Are you at RISK of maternal diseases?\n",
      "NO, you are in good health!\n"
     ]
    },
    {
     "name": "stderr",
     "output_type": "stream",
     "text": [
      "/Users/geraldgaitos/opt/anaconda3/envs/homl3/lib/python3.10/site-packages/sklearn/base.py:493: FutureWarning: The feature names should match those that were passed during fit. Starting version 1.2, an error will be raised.\n",
      "Feature names must be in the same order as they were in fit.\n",
      "\n",
      "  warnings.warn(message, FutureWarning)\n"
     ]
    }
   ],
   "source": [
    "#15,120,80,7.01,98,70\n",
    "#expected result: low risk --> AT RISK\n",
    "predicted_risk_level = predict_risk_level_from_user_input()\n",
    "\n",
    "print(\"Are you at RISK of maternal diseases?\")\n",
    "if not predicted_risk_level == True:\n",
    "    print('YES, seek medical help!')\n",
    "else:\n",
    "    print('NO, you are in good health!')"
   ]
  },
  {
   "cell_type": "code",
   "execution_count": null,
   "id": "f199c61e",
   "metadata": {},
   "outputs": [],
   "source": []
  }
 ],
 "metadata": {
  "kernelspec": {
   "display_name": "Python 3 (ipykernel)",
   "language": "python",
   "name": "python3"
  },
  "language_info": {
   "codemirror_mode": {
    "name": "ipython",
    "version": 3
   },
   "file_extension": ".py",
   "mimetype": "text/x-python",
   "name": "python",
   "nbconvert_exporter": "python",
   "pygments_lexer": "ipython3",
   "version": "3.10.9"
  }
 },
 "nbformat": 4,
 "nbformat_minor": 5
}
